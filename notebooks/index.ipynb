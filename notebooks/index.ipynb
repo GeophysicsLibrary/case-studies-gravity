{
 "cells": [
  {
   "cell_type": "markdown",
   "metadata": {},
   "source": [
    "# Case Studies: Gravity data from around the world\n",
    "\n",
    "In this lesson, we'll explore the gravity data from a few different locations and discuss what it can tell us about the isostatic state of the lithosphere.\n",
    "\n",
    "The Jupyter notebooks contain code to visualize gravity data in maps and profiles as well as talking points about each dataset."
   ]
  },
  {
   "cell_type": "markdown",
   "metadata": {},
   "source": [
    "## Jupyter notebooks\n",
    "\n",
    "This is a [Jupyter notebook](http://jupyter.org/). It's an interactive computing environment where you can mix text (like this), code, figures, video, etc. The notebook is organized into cells. This is a Markdown cell (click on it to see the source) and it can contain text, hyperlinks, images, and even Latex equations. Other cells contain source code and the output of the code. \n",
    "\n",
    "To execute a code cell, select it and type `shift+enter` or click on the *Run button* above. This will run the code and produce it's output. Make sure to run the cells in order first. You can alter the code in a cell and run it again to see what changed.  "
   ]
  },
  {
   "cell_type": "markdown",
   "metadata": {},
   "source": [
    "## Contents\n",
    "\n",
    "1. [Hawai'i](hawaii.ipynb) - Gravity disturbance and flexure of the oceanic lithosphere\n",
    "2. [Himalayas](himalayas.ipynb) - The Bouger correction, Airy isostasy, and the Moho\n",
    "2. [Hudson Bay](hudson-bay.ipynb) - Glacial isostaic rebound"
   ]
  }
 ],
 "metadata": {
  "kernelspec": {
   "display_name": "Python 2",
   "language": "python",
   "name": "python2"
  },
  "language_info": {
   "codemirror_mode": {
    "name": "ipython",
    "version": 2
   },
   "file_extension": ".py",
   "mimetype": "text/x-python",
   "name": "python",
   "nbconvert_exporter": "python",
   "pygments_lexer": "ipython2",
   "version": "2.7.14"
  }
 },
 "nbformat": 4,
 "nbformat_minor": 2
}
