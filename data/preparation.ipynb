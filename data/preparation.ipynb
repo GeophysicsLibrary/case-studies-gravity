{
 "cells": [
  {
   "cell_type": "markdown",
   "metadata": {},
   "source": [
    "# Process and prepare the raw data for use in the lesson\n",
    "\n",
    "The raw gravity and topography data are generated from [spherical harmonic models](https://en.wikipedia.org/wiki/Spherical_harmonics) using the [ICGEM Calculation Service](http://icgem.gfz-potsdam.de). The data are distributed in text files and heights are defined relative to the geoid (orthometric heights). We need to convert the obeservation heights and topography to geometric heights (relative to the ellipsoid) using the geoid heights also downloaded from ICGEM. We'll also save this data in [netCDF](https://www.unidata.ucar.edu/software/netcdf/) files for easier loading with [xarray](http://xarray.pydata.org/).\n",
    "\n",
    "The model used to generate the gravity and geoid height data is EIGEN-6c4. The topography data is interpolated from the ETOPO1 model."
   ]
  },
  {
   "cell_type": "markdown",
   "metadata": {},
   "source": [
    "## Import the required libraries\n",
    "\n",
    "We need the following libraries to do this work."
   ]
  },
  {
   "cell_type": "code",
   "execution_count": 1,
   "metadata": {},
   "outputs": [],
   "source": [
    "%matplotlib inline\n",
    "from __future__ import division\n",
    "import numpy as np\n",
    "import xarray as xr\n",
    "import matplotlib.pyplot as plt\n",
    "# Load a custom function from icgem.py to load the raw data\n",
    "from icgem import load_icgem_gdf"
   ]
  },
  {
   "cell_type": "markdown",
   "metadata": {},
   "source": [
    "## Loading ICGEM files\n",
    "\n",
    "The following function loads the data from the ICGEM text files along with some metadata from the headers."
   ]
  },
  {
   "cell_type": "code",
   "execution_count": null,
   "metadata": {},
   "outputs": [],
   "source": []
  },
  {
   "cell_type": "code",
   "execution_count": 4,
   "metadata": {},
   "outputs": [
    {
     "data": {
      "text/plain": [
       "150"
      ]
     },
     "execution_count": 4,
     "metadata": {},
     "output_type": "execute_result"
    }
   ],
   "source": [
    "360 - 210"
   ]
  },
  {
   "cell_type": "code",
   "execution_count": null,
   "metadata": {},
   "outputs": [],
   "source": [
    "grav_file = 'data/eigen-6c3stat-havai.gdf'\n",
    "topo_file = 'data/e"
   ]
  }
 ],
 "metadata": {
  "kernelspec": {
   "display_name": "Python 2",
   "language": "python",
   "name": "python2"
  },
  "language_info": {
   "codemirror_mode": {
    "name": "ipython",
    "version": 2
   },
   "file_extension": ".py",
   "mimetype": "text/x-python",
   "name": "python",
   "nbconvert_exporter": "python",
   "pygments_lexer": "ipython2",
   "version": "2.7.14"
  }
 },
 "nbformat": 4,
 "nbformat_minor": 2
}
